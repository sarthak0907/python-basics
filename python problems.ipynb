{
 "cells": [
  {
   "cell_type": "code",
   "execution_count": 44,
   "id": "22bc2ca4",
   "metadata": {
    "scrolled": true
   },
   "outputs": [
    {
     "name": "stdout",
     "output_type": "stream",
     "text": [
      "enter a 3 digit number153\n",
      "153 is an Armstrong number\n"
     ]
    }
   ],
   "source": [
    "#armstrong nummber\n",
    "x=int(input(\"enter a 3 digit number\"))\n",
    "s=0\n",
    "t=x\n",
    "while t>0:\n",
    "    y=t % 10\n",
    "    s+=y ** 3\n",
    "    t//=10\n",
    "if x == s:  \n",
    "   print(x,\"is an Armstrong number\")  \n",
    "else:  \n",
    "   print(x,\"is not an Armstrong number\")  \n",
    "\n",
    "\n",
    "    \n",
    "    \n"
   ]
  },
  {
   "cell_type": "code",
   "execution_count": 73,
   "id": "4c656e24",
   "metadata": {},
   "outputs": [
    {
     "name": "stdout",
     "output_type": "stream",
     "text": [
      "enter the number5\n",
      "0\n",
      "1\n",
      "1\n",
      "2\n",
      "3\n",
      "5\n"
     ]
    }
   ],
   "source": [
    "#fibonaci series\n",
    "x=int(input(\"enter the number\"))\n",
    "y=0\n",
    "z=1\n",
    "if x==0:\n",
    "    print(0)\n",
    "elif x==1:\n",
    "    print(0)\n",
    "    print(1)\n",
    "else:\n",
    "    print(0)\n",
    "    print(1)\n",
    "for i in range(2,x+1):\n",
    "    s=y+z\n",
    "    y,z=z,s\n",
    "    print(s)\n",
    "    \n"
   ]
  },
  {
   "cell_type": "code",
   "execution_count": 55,
   "id": "83141d22",
   "metadata": {},
   "outputs": [
    {
     "name": "stdout",
     "output_type": "stream",
     "text": [
      "enter first no10\n",
      "enter second no20\n",
      "enter third no15\n",
      "second no\n"
     ]
    }
   ],
   "source": [
    "#largest of three no\n",
    "x=int(input('enter first no'))\n",
    "y=int(input('enter second no'))\n",
    "z=int(input('enter third no'))\n",
    "    \n",
    "print('first no') if x>y and x>z else print('second no') if y>x and y>z else print(\"third no\")"
   ]
  },
  {
   "cell_type": "code",
   "execution_count": null,
   "id": "f7b388a9",
   "metadata": {},
   "outputs": [],
   "source": [
    "#check whether prime or not\n",
    "y=int(input('enter  no'))\n",
    "c=0\n",
    "for i in range(1,y+1):\n",
    "    if y%i==0:\n",
    "        c+=1\n",
    "print('prime') if c==2 else print(\"not prime\")\n",
    "        \n",
    "    "
   ]
  },
  {
   "cell_type": "code",
   "execution_count": 72,
   "id": "3e934420",
   "metadata": {},
   "outputs": [
    {
     "name": "stdout",
     "output_type": "stream",
     "text": [
      "enter  no15\n",
      "2\n",
      "3\n",
      "5\n",
      "7\n",
      "11\n",
      "13\n"
     ]
    }
   ],
   "source": [
    "#prime number in range\n",
    "y=int(input('enter  no'))\n",
    "\n",
    "for i in range(1,y):\n",
    "    c=0\n",
    "    for j in range(1,i+1):\n",
    "        if (i%j)==0:\n",
    "            c+=1\n",
    "            \n",
    "    if c==2:\n",
    "        print(i)\n",
    "       \n",
    "    \n",
    "        "
   ]
  },
  {
   "cell_type": "code",
   "execution_count": 65,
   "id": "bb9a3552",
   "metadata": {},
   "outputs": [
    {
     "name": "stdout",
     "output_type": "stream",
     "text": [
      "enter  no-5\n",
      "-\n"
     ]
    }
   ],
   "source": [
    "#positive negative or 0\n",
    "y=int(input('enter  no'))\n",
    "print('+') if y>0 else print('-') if y<0 else print('0')"
   ]
  },
  {
   "cell_type": "code",
   "execution_count": 67,
   "id": "30a6bd07",
   "metadata": {},
   "outputs": [
    {
     "name": "stdout",
     "output_type": "stream",
     "text": [
      "enter  no4\n",
      "even\n"
     ]
    }
   ],
   "source": [
    "#odd even\n",
    "y=int(input('enter  no'))\n",
    "print('even') if y%2==0 else print('odd')"
   ]
  },
  {
   "cell_type": "code",
   "execution_count": 69,
   "id": "19907907",
   "metadata": {},
   "outputs": [
    {
     "name": "stdout",
     "output_type": "stream",
     "text": [
      "enter  no5\n",
      "120\n"
     ]
    }
   ],
   "source": [
    "#factorial\n",
    "y=int(input('enter  no'))\n",
    "t=1\n",
    "for i in range(1,y+1):\n",
    "    t=t*i\n",
    "print(t)\n",
    "    "
   ]
  },
  {
   "cell_type": "code",
   "execution_count": 70,
   "id": "fcc3b8d9",
   "metadata": {},
   "outputs": [
    {
     "name": "stdout",
     "output_type": "stream",
     "text": [
      "enter the number5\n",
      "5 * 0 = 0\n",
      "5 * 1 = 5\n",
      "5 * 2 = 10\n",
      "5 * 3 = 15\n",
      "5 * 4 = 20\n",
      "5 * 5 = 25\n",
      "5 * 6 = 30\n",
      "5 * 7 = 35\n",
      "5 * 8 = 40\n",
      "5 * 9 = 45\n",
      "5 * 10 = 50\n"
     ]
    }
   ],
   "source": [
    "#multiplication table\n",
    "x=int(input(\"enter the number\"))\n",
    "for i in range(11):\n",
    "    print(x,'*',i,'=',x*i)"
   ]
  },
  {
   "cell_type": "code",
   "execution_count": 71,
   "id": "9dd13a00",
   "metadata": {},
   "outputs": [
    {
     "name": "stdout",
     "output_type": "stream",
     "text": [
      "enter the km5\n",
      "8.0\n"
     ]
    }
   ],
   "source": [
    "#to convert km to mile\n",
    "x=int(input(\"enter the km\"))\n",
    "y=x*1.6\n",
    "print(float(y))\n"
   ]
  },
  {
   "cell_type": "code",
   "execution_count": 74,
   "id": "d98e6a0c",
   "metadata": {},
   "outputs": [
    {
     "name": "stdout",
     "output_type": "stream",
     "text": [
      "enter the year2000\n",
      "leap year\n"
     ]
    }
   ],
   "source": [
    "#leap year\n",
    "x=int(input(\"enter the year\"))\n",
    "print('leap year') if x%4==0 else print('not leap')"
   ]
  },
  {
   "cell_type": "code",
   "execution_count": null,
   "id": "0d23c0a5",
   "metadata": {},
   "outputs": [],
   "source": []
  }
 ],
 "metadata": {
  "kernelspec": {
   "display_name": "Python 3",
   "language": "python",
   "name": "python3"
  },
  "language_info": {
   "codemirror_mode": {
    "name": "ipython",
    "version": 3
   },
   "file_extension": ".py",
   "mimetype": "text/x-python",
   "name": "python",
   "nbconvert_exporter": "python",
   "pygments_lexer": "ipython3",
   "version": "3.8.8"
  }
 },
 "nbformat": 4,
 "nbformat_minor": 5
}
