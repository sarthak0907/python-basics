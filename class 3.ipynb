{
 "cells": [
  {
   "cell_type": "code",
   "execution_count": 5,
   "id": "8fa8925a",
   "metadata": {},
   "outputs": [
    {
     "data": {
      "text/plain": [
       "(1, 2, 3, 4, 5, 6, 7, 8)"
      ]
     },
     "execution_count": 5,
     "metadata": {},
     "output_type": "execute_result"
    }
   ],
   "source": [
    "a=(1,2,3,4)\n",
    "b=(5,6,7,8)\n",
    "a+b"
   ]
  },
  {
   "cell_type": "code",
   "execution_count": 2,
   "id": "8577c833",
   "metadata": {},
   "outputs": [
    {
     "data": {
      "text/plain": [
       "[4, 3, 2, 1, 1, 2, 3, 4]"
      ]
     },
     "execution_count": 2,
     "metadata": {},
     "output_type": "execute_result"
    }
   ],
   "source": [
    "a=[1,2,3,4]\n",
    "b=[4,3,2,1]\n",
    "b+a"
   ]
  },
  {
   "cell_type": "code",
   "execution_count": 6,
   "id": "4b17a2e8",
   "metadata": {},
   "outputs": [
    {
     "data": {
      "text/plain": [
       "[1, 2, 3, 1, 2, 3, 1, 2, 3]"
      ]
     },
     "execution_count": 6,
     "metadata": {},
     "output_type": "execute_result"
    }
   ],
   "source": [
    "x=[1,2,3]\n",
    "x*3"
   ]
  },
  {
   "cell_type": "code",
   "execution_count": 91,
   "id": "25fbb6da",
   "metadata": {},
   "outputs": [
    {
     "name": "stdout",
     "output_type": "stream",
     "text": [
      "[1, 2, 3, 4, '10']\n"
     ]
    }
   ],
   "source": [
    "a=(1,2,3,4)\n",
    "a[2]=a[2] +23\n",
    "print(x)"
   ]
  },
  {
   "cell_type": "code",
   "execution_count": null,
   "id": "a438aa40",
   "metadata": {},
   "outputs": [],
   "source": []
  },
  {
   "cell_type": "markdown",
   "id": "841d0673",
   "metadata": {},
   "source": []
  },
  {
   "cell_type": "code",
   "execution_count": 75,
   "id": "1381c192",
   "metadata": {},
   "outputs": [
    {
     "name": "stdout",
     "output_type": "stream",
     "text": [
      "('red', 5.5, 99.56)\n",
      "3\n"
     ]
    }
   ],
   "source": [
    "x=('red',5.5,99.56)\n",
    "print(x)\n",
    "print(len(x))"
   ]
  },
  {
   "cell_type": "code",
   "execution_count": 26,
   "id": "4a4ba75b",
   "metadata": {},
   "outputs": [
    {
     "name": "stdout",
     "output_type": "stream",
     "text": [
      "*\n",
      "*\n",
      "*\n",
      "*\n",
      "*\n"
     ]
    }
   ],
   "source": [
    "for i in(5,4,3,2,1):\n",
    "         print('*')\n"
   ]
  },
  {
   "cell_type": "code",
   "execution_count": 37,
   "id": "430b1abe",
   "metadata": {},
   "outputs": [
    {
     "data": {
      "text/plain": [
       "'artorhemkahtras'"
      ]
     },
     "execution_count": 37,
     "metadata": {},
     "output_type": "execute_result"
    }
   ],
   "source": [
    "x='sarthakmehrotra'\n",
    "x[::-1]"
   ]
  },
  {
   "cell_type": "code",
   "execution_count": 52,
   "id": "8449d216",
   "metadata": {},
   "outputs": [
    {
     "name": "stdout",
     "output_type": "stream",
     "text": [
      "a happy 0\n",
      "b happy 1\n",
      "c happy 2\n",
      "range(0, 3)\n"
     ]
    }
   ],
   "source": [
    "x=[\"a\",'b','c']\n",
    "\n",
    "for i in range(len(x)):\n",
    "        y=x[i]\n",
    "        print(y,\"happy\",i)\n",
    "        \n",
    "print(range(len(x)))"
   ]
  },
  {
   "cell_type": "code",
   "execution_count": 59,
   "id": "7c1a35a6",
   "metadata": {},
   "outputs": [
    {
     "data": {
      "text/plain": [
       "[5, 23]"
      ]
     },
     "execution_count": 59,
     "metadata": {},
     "output_type": "execute_result"
    }
   ],
   "source": [
    "x=[]\n",
    "x.append(23)\n",
    "x.append(5)\n",
    "\n",
    "x.sort()\n",
    "x"
   ]
  },
  {
   "cell_type": "code",
   "execution_count": 105,
   "id": "c00a07ab",
   "metadata": {},
   "outputs": [
    {
     "name": "stdout",
     "output_type": "stream",
     "text": [
      "['sarthak', 'mehrotra', 'rahool', '5.0']\n",
      "['5.0', 'mehrotra', 'rahool', 'sarthak']\n"
     ]
    }
   ],
   "source": [
    "x=[]\n",
    "x.append(\"sarthak\")\n",
    "x.append(\"mehrotra\")\n",
    "x.append(\"rahool\")\n",
    "x.append('5.0')\n",
    "print(x)\n",
    "x.sort()\n",
    "print(x)"
   ]
  },
  {
   "cell_type": "code",
   "execution_count": 70,
   "id": "47879506",
   "metadata": {},
   "outputs": [
    {
     "name": "stdout",
     "output_type": "stream",
     "text": [
      "(2, 3, False)\n"
     ]
    }
   ],
   "source": [
    "x=(2,3,False)http://localhost:8888/notebooks/class%203.ipynb#\n",
    "y=()\n",
    "print(y)"
   ]
  },
  {
   "cell_type": "code",
   "execution_count": 71,
   "id": "3ca30091",
   "metadata": {},
   "outputs": [
    {
     "name": "stdout",
     "output_type": "stream",
     "text": [
      "gmail.com\n"
     ]
    }
   ],
   "source": [
    "x=(\"sarthak@gmail.com\")\n",
    "y=x.split('@')\n",
    "print(y[1])"
   ]
  },
  {
   "cell_type": "code",
   "execution_count": 104,
   "id": "c9d01385",
   "metadata": {},
   "outputs": [
    {
     "name": "stdout",
     "output_type": "stream",
     "text": [
      "sarthak\n",
      "{('a', 'b'): 'sarthak', 'b': 'mehrotra', 'c': 'hero'}\n"
     ]
    }
   ],
   "source": [
    "x={('a','b'):'sarthak','b':'mehrotra','c':'hero'}\n",
    "print(x[('a','b')])\n",
    "print(x)"
   ]
  },
  {
   "cell_type": "code",
   "execution_count": null,
   "id": "f2d53e3b",
   "metadata": {},
   "outputs": [],
   "source": []
  }
 ],
 "metadata": {
  "kernelspec": {
   "display_name": "Python 3",
   "language": "python",
   "name": "python3"
  },
  "language_info": {
   "codemirror_mode": {
    "name": "ipython",
    "version": 3
   },
   "file_extension": ".py",
   "mimetype": "text/x-python",
   "name": "python",
   "nbconvert_exporter": "python",
   "pygments_lexer": "ipython3",
   "version": "3.8.8"
  }
 },
 "nbformat": 4,
 "nbformat_minor": 5
}
