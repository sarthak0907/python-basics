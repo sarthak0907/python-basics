{
 "cells": [
  {
   "cell_type": "code",
   "execution_count": 4,
   "id": "af821119",
   "metadata": {},
   "outputs": [
    {
     "data": {
      "text/plain": [
       "10.0"
      ]
     },
     "execution_count": 4,
     "metadata": {},
     "output_type": "execute_result"
    }
   ],
   "source": [
    "float(3) + float(7)"
   ]
  },
  {
   "cell_type": "code",
   "execution_count": 5,
   "id": "29b8af5b",
   "metadata": {},
   "outputs": [
    {
     "data": {
      "text/plain": [
       "8"
      ]
     },
     "execution_count": 5,
     "metadata": {},
     "output_type": "execute_result"
    }
   ],
   "source": [
    "x=5\n",
    "x+=3\n",
    "x"
   ]
  },
  {
   "cell_type": "code",
   "execution_count": 7,
   "id": "f06cdfc2",
   "metadata": {},
   "outputs": [
    {
     "data": {
      "text/plain": [
       "16"
      ]
     },
     "execution_count": 7,
     "metadata": {},
     "output_type": "execute_result"
    }
   ],
   "source": [
    "x *=2\n",
    "x"
   ]
  },
  {
   "cell_type": "code",
   "execution_count": 9,
   "id": "f7deaac0",
   "metadata": {},
   "outputs": [
    {
     "data": {
      "text/plain": [
       "6.33"
      ]
     },
     "execution_count": 9,
     "metadata": {},
     "output_type": "execute_result"
    }
   ],
   "source": [
    "int(3.67)+ float(3.33)"
   ]
  },
  {
   "cell_type": "code",
   "execution_count": 13,
   "id": "1250a1e1",
   "metadata": {},
   "outputs": [
    {
     "data": {
      "text/plain": [
       "'21'"
      ]
     },
     "execution_count": 13,
     "metadata": {},
     "output_type": "execute_result"
    }
   ],
   "source": [
    "x=str(21)\n",
    "x"
   ]
  },
  {
   "cell_type": "code",
   "execution_count": 14,
   "id": "82c39af3",
   "metadata": {},
   "outputs": [
    {
     "name": "stdout",
     "output_type": "stream",
     "text": [
      "my age is 21\n"
     ]
    }
   ],
   "source": [
    "print(\"my age is\",x)"
   ]
  },
  {
   "cell_type": "code",
   "execution_count": 19,
   "id": "655029aa",
   "metadata": {},
   "outputs": [
    {
     "data": {
      "text/plain": [
       "50"
      ]
     },
     "execution_count": 19,
     "metadata": {},
     "output_type": "execute_result"
    }
   ],
   "source": [
    "x=5\n",
    "y=5\n",
    "x *=2\n",
    "y *=x\n",
    "y"
   ]
  },
  {
   "cell_type": "code",
   "execution_count": 21,
   "id": "53c92697",
   "metadata": {},
   "outputs": [
    {
     "name": "stdout",
     "output_type": "stream",
     "text": [
      "good work\n",
      "100\n"
     ]
    }
   ],
   "source": [
    "x=100\n",
    "if x<50:\n",
    "    print(\"sorry\")\n",
    "else :\n",
    "    print(\"good work\")\n",
    "print(x)"
   ]
  },
  {
   "cell_type": "code",
   "execution_count": 23,
   "id": "64ce06f4",
   "metadata": {},
   "outputs": [
    {
     "name": "stdout",
     "output_type": "stream",
     "text": [
      "y is bigger\n",
      "x= 50  y= 60\n"
     ]
    }
   ],
   "source": [
    "x=50\n",
    "y=60\n",
    "if x>y:\n",
    "    print('x is bigger')\n",
    "elif x==y:\n",
    "    print('x and y are brothers')\n",
    "else:\n",
    "    print('y is bigger')\n",
    "print('x=',x, ' y=',y)"
   ]
  },
  {
   "cell_type": "code",
   "execution_count": 26,
   "id": "667f9955",
   "metadata": {},
   "outputs": [
    {
     "name": "stdout",
     "output_type": "stream",
     "text": [
      "category 1\n",
      "x= 5\n"
     ]
    }
   ],
   "source": [
    "x=5\n",
    "if x>1 and x<=10:\n",
    "    print('category 1')\n",
    "elif x>10 and x<20:\n",
    "    print('category 2')\n",
    "else:\n",
    "    print('category 3')\n",
    "print(\"x=\",x)"
   ]
  },
  {
   "cell_type": "code",
   "execution_count": 34,
   "id": "52a5f7fd",
   "metadata": {},
   "outputs": [
    {
     "name": "stdout",
     "output_type": "stream",
     "text": [
      "True\n",
      "True\n",
      "False\n",
      "False\n",
      "True\n",
      "False\n",
      "False\n",
      "True\n",
      "False\n",
      "False\n",
      "True\n"
     ]
    }
   ],
   "source": [
    "x=['5','6','7','8']\n",
    "y=x[:]\n",
    "z=y\n",
    "print(x==y)\n",
    "print(x==z)\n",
    "print(y is x)\n",
    "print(z is x)\n",
    "print(y is z)\n",
    "x[1]='10'\n",
    "y[1]='21'\n",
    "print(x==y)\n",
    "print(x==z)\n",
    "print(y==z)\n",
    "print(y is x)\n",
    "print(z is x)\n",
    "print(y is z)"
   ]
  },
  {
   "cell_type": "code",
   "execution_count": 43,
   "id": "7791cd27",
   "metadata": {},
   "outputs": [
    {
     "name": "stdout",
     "output_type": "stream",
     "text": [
      "1\n",
      "true\n"
     ]
    }
   ],
   "source": [
    "x=['2']\n",
    "y=len(x)\n",
    "print(y)\n",
    "if x==[]:\n",
    "    print('false')\n",
    "else:\n",
    "    print('true')"
   ]
  },
  {
   "cell_type": "code",
   "execution_count": null,
   "id": "9a9b55be",
   "metadata": {},
   "outputs": [],
   "source": []
  },
  {
   "cell_type": "code",
   "execution_count": null,
   "id": "9a3a4bfa",
   "metadata": {},
   "outputs": [],
   "source": []
  }
 ],
 "metadata": {
  "kernelspec": {
   "display_name": "Python 3",
   "language": "python",
   "name": "python3"
  },
  "language_info": {
   "codemirror_mode": {
    "name": "ipython",
    "version": 3
   },
   "file_extension": ".py",
   "mimetype": "text/x-python",
   "name": "python",
   "nbconvert_exporter": "python",
   "pygments_lexer": "ipython3",
   "version": "3.8.8"
  }
 },
 "nbformat": 4,
 "nbformat_minor": 5
}
