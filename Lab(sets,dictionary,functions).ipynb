{
 "cells": [
  {
   "cell_type": "code",
   "execution_count": 1,
   "id": "9a44c79e",
   "metadata": {},
   "outputs": [
    {
     "name": "stdout",
     "output_type": "stream",
     "text": [
      "{'mehrotra', 'rahool', 'sarthak'}\n",
      "3\n"
     ]
    }
   ],
   "source": [
    "a={'sarthak','rahool','mehrotra',}\n",
    "print(a)\n",
    "print(len(a))"
   ]
  },
  {
   "cell_type": "code",
   "execution_count": 6,
   "id": "e1b992d6",
   "metadata": {},
   "outputs": [
    {
     "name": "stdout",
     "output_type": "stream",
     "text": [
      "{'mehrotra', 'rahool', 'sarthak'}\n",
      "mehrotra\n",
      "rahool\n",
      "sarthak\n",
      "True\n"
     ]
    }
   ],
   "source": [
    "a=('sarthak','mehrotra','rahool')\n",
    "b=set(a)\n",
    "print(b)\n",
    "for i in b:\n",
    "    print(i)\n",
    "print('rahool' in b)"
   ]
  },
  {
   "cell_type": "code",
   "execution_count": 34,
   "id": "99f42cc3",
   "metadata": {},
   "outputs": [
    {
     "name": "stdout",
     "output_type": "stream",
     "text": [
      "{40, 10, 20, 30}\n",
      "{70, 40, 10, 50, 20, 60, 30}\n",
      "{40, 10, 50, 20, 60, 30}\n"
     ]
    }
   ],
   "source": [
    "\n",
    "x={10,20,30}\n",
    "x.add(40)\n",
    "print(x)\n",
    "a=(10,20,30,40,50)\n",
    "b=[60,40,30,70]\n",
    "x.update(a,b)\n",
    "print(x)\n",
    "x.remove(70)\n",
    "print(x)"
   ]
  },
  {
   "cell_type": "code",
   "execution_count": 35,
   "id": "a90e27d4",
   "metadata": {},
   "outputs": [
    {
     "name": "stdout",
     "output_type": "stream",
     "text": [
      "{40, 10, 50, 20, 30}\n",
      "{10, 50, 20, 30}\n",
      "40\n"
     ]
    }
   ],
   "source": [
    "x.remove(60)\n",
    "print(x)\n",
    "y=x.pop()\n",
    "print(x)\n",
    "print(y)\n"
   ]
  },
  {
   "cell_type": "code",
   "execution_count": 36,
   "id": "1361974f",
   "metadata": {},
   "outputs": [
    {
     "name": "stdout",
     "output_type": "stream",
     "text": [
      "{'b', 1, 2, 3, 'c', 'a'}\n"
     ]
    }
   ],
   "source": [
    "set1 = {\"a\", \"b\" ,\"c\"}\n",
    "set2 = {1, 2, 3}\n",
    "\n",
    "set3 = set1.union(set2)\n",
    "print(set3)"
   ]
  },
  {
   "cell_type": "code",
   "execution_count": 38,
   "id": "02432fc4",
   "metadata": {},
   "outputs": [
    {
     "name": "stdout",
     "output_type": "stream",
     "text": [
      "{'apple'}\n",
      "{'apple'}\n"
     ]
    }
   ],
   "source": [
    "x = {\"apple\", \"banana\", \"cherry\"}\n",
    "y = {\"google\", \"microsoft\", \"apple\"}\n",
    "\n",
    "z = x.intersection(y)\n",
    "x.intersection_update(y)\n",
    "print(z)\n",
    "print(x)"
   ]
  },
  {
   "cell_type": "code",
   "execution_count": 39,
   "id": "f8c6207c",
   "metadata": {},
   "outputs": [
    {
     "name": "stdout",
     "output_type": "stream",
     "text": [
      "{'google', 'banana', 'microsoft', 'cherry'}\n"
     ]
    }
   ],
   "source": [
    "x = {\"apple\", \"banana\", \"cherry\"}\n",
    "y = {\"google\", \"microsoft\", \"apple\"}\n",
    "\n",
    "x.symmetric_difference_update(y)\n",
    "\n",
    "print(x)"
   ]
  },
  {
   "cell_type": "code",
   "execution_count": 40,
   "id": "8d48c561",
   "metadata": {},
   "outputs": [
    {
     "name": "stdout",
     "output_type": "stream",
     "text": [
      "{'google', 'banana', 'microsoft', 'cherry'}\n"
     ]
    }
   ],
   "source": [
    "x = {\"apple\", \"banana\", \"cherry\"}\n",
    "y = {\"google\", \"microsoft\", \"apple\"}\n",
    "\n",
    "z=x.symmetric_difference(y)\n",
    "\n",
    "print(z)"
   ]
  },
  {
   "cell_type": "code",
   "execution_count": 47,
   "id": "ed5eea9b",
   "metadata": {},
   "outputs": [
    {
     "name": "stdout",
     "output_type": "stream",
     "text": [
      "Mustang\n",
      "dict_keys(['brand', 'model', 'year'])\n"
     ]
    }
   ],
   "source": [
    "y = {\"brand\": \"Ford\",\"model\": \"Mustang\",\"year\": 1964}\n",
    "x = y[\"model\"]\n",
    "print(x)\n",
    "print(y.keys())"
   ]
  },
  {
   "cell_type": "code",
   "execution_count": 52,
   "id": "81ba3db8",
   "metadata": {},
   "outputs": [
    {
     "name": "stdout",
     "output_type": "stream",
     "text": [
      "dict_keys(['brand', 'model', 'year'])\n",
      "dict_keys(['brand', 'model', 'year', 'color'])\n",
      "dict_values(['Ford', 'Mustang', 1964, 'white'])\n",
      "dict_items([('brand', 'Ford'), ('model', 'Mustang'), ('year', 1964), ('color', 'white')])\n",
      "dict_values(['Ford', 'Mustang', 2020, 'white'])\n",
      "dict_items([('brand', 'Ford'), ('model', 'Mustang'), ('year', 2020), ('color', 'white')])\n"
     ]
    }
   ],
   "source": [
    "car = {\"brand\": \"Ford\",\"model\": \"Mustang\",\"year\": 1964}\n",
    "\n",
    "x = car.keys()\n",
    "\n",
    "print(x)\n",
    "\n",
    "car[\"color\"] = \"white\"\n",
    "\n",
    "print(x)\n",
    "print(car.values())\n",
    "print(car.items())\n",
    "car[\"year\"]=2020\n",
    "print(car.values())\n",
    "print(car.items())"
   ]
  },
  {
   "cell_type": "code",
   "execution_count": 55,
   "id": "2c78eb4e",
   "metadata": {},
   "outputs": [
    {
     "name": "stdout",
     "output_type": "stream",
     "text": [
      "{'brand': 'Ford', 'model': 'Mustang'}\n"
     ]
    }
   ],
   "source": [
    "car = {\"brand\": \"Ford\",\"model\": \"Mustang\",\"year\": 1964}\n",
    "x=car.pop('year')\n",
    "print(car)"
   ]
  },
  {
   "cell_type": "code",
   "execution_count": 57,
   "id": "c9f73713",
   "metadata": {},
   "outputs": [
    {
     "name": "stdout",
     "output_type": "stream",
     "text": [
      "{'brand': 'Ford', 'model': 'Mustang'}\n"
     ]
    }
   ],
   "source": [
    "car = {\"brand\": \"Ford\",\"model\": \"Mustang\",\"year\": 1964}\n",
    "x=car.popitem()\n",
    "print(car)\n"
   ]
  },
  {
   "cell_type": "code",
   "execution_count": 58,
   "id": "cd1ff3a4",
   "metadata": {},
   "outputs": [
    {
     "name": "stdout",
     "output_type": "stream",
     "text": [
      "{'x': {'sarthak': '21', 'rahool': '20'}, 'y': {'mehrotra': '21', 'shivdarshi': '20'}, 'z': {'satya': '21', 'brata': '20'}}\n"
     ]
    }
   ],
   "source": [
    "x={'sarthak': \"21\",\"rahool\": \"20\"}\n",
    "y={'mehrotra': \"21\",\"shivdarshi\": \"20\"}\n",
    "z={'satya': \"21\",\"brata\": \"20\"}\n",
    "group={\"x\":x,\"y\":y,\"z\":z}\n",
    "print(group)"
   ]
  },
  {
   "cell_type": "code",
   "execution_count": 61,
   "id": "ed5b9c46",
   "metadata": {},
   "outputs": [
    {
     "name": "stdout",
     "output_type": "stream",
     "text": [
      "{'x': {'sarthak': '21', 'rahool': '20'}, 'y': {'mehrotra': '21', 'shivdarshi': '20'}, 'z': {'satya': '21', 'brata': '20'}}\n"
     ]
    }
   ],
   "source": [
    "group={\"x\":{'sarthak': \"21\",\"rahool\": \"20\"},\n",
    "\"y\":{'mehrotra': \"21\",\"shivdarshi\": \"20\"},\n",
    "\"z\":{'satya': \"21\",\"brata\": \"20\"}}\n",
    "print(group)"
   ]
  },
  {
   "cell_type": "code",
   "execution_count": 64,
   "id": "4b91e7c6",
   "metadata": {},
   "outputs": [
    {
     "ename": "AttributeError",
     "evalue": "'dict' object has no attribute 'format'",
     "output_type": "error",
     "traceback": [
      "\u001b[1;31m---------------------------------------------------------------------------\u001b[0m",
      "\u001b[1;31mAttributeError\u001b[0m                            Traceback (most recent call last)",
      "\u001b[1;32m<ipython-input-64-6c53f916fd8f>\u001b[0m in \u001b[0;36m<module>\u001b[1;34m\u001b[0m\n\u001b[1;32m----> 1\u001b[1;33m \u001b[0mx\u001b[0m\u001b[1;33m=\u001b[0m\u001b[1;33m{\u001b[0m\u001b[1;34m'name'\u001b[0m\u001b[1;33m:\u001b[0m\u001b[1;33m{\u001b[0m\u001b[1;36m0\u001b[0m\u001b[1;33m}\u001b[0m\u001b[1;33m,\u001b[0m\u001b[1;34m\"address\"\u001b[0m\u001b[1;33m:\u001b[0m\u001b[1;33m{\u001b[0m\u001b[1;36m1\u001b[0m\u001b[1;33m}\u001b[0m\u001b[1;33m,\u001b[0m\u001b[1;34m\"state\"\u001b[0m\u001b[1;33m:\u001b[0m\u001b[1;33m{\u001b[0m\u001b[1;36m2\u001b[0m\u001b[1;33m}\u001b[0m\u001b[1;33m}\u001b[0m\u001b[1;33m.\u001b[0m\u001b[0mformat\u001b[0m\u001b[1;33m(\u001b[0m\u001b[1;34m\"sarthak\"\u001b[0m\u001b[1;33m,\u001b[0m\u001b[1;34m\"aliganj\"\u001b[0m\u001b[1;33m,\u001b[0m\u001b[1;34m\"UP\"\u001b[0m\u001b[1;33m)\u001b[0m\u001b[1;33m\u001b[0m\u001b[1;33m\u001b[0m\u001b[0m\n\u001b[0m",
      "\u001b[1;31mAttributeError\u001b[0m: 'dict' object has no attribute 'format'"
     ]
    }
   ],
   "source": [
    "x={'name':{0},\"address\":{1},\"state\":{2}}.format(\"sarthak\",\"aliganj\",\"UP\")"
   ]
  },
  {
   "cell_type": "code",
   "execution_count": 90,
   "id": "fb22e9e1",
   "metadata": {},
   "outputs": [
    {
     "name": "stdout",
     "output_type": "stream",
     "text": [
      "Name:sarthak Address:aliganj State:uttar pradesh\n"
     ]
    }
   ],
   "source": [
    "d = {\"name\":\"sarthak\", \"address\":\"aliganj\", \"state\":\"uttar pradesh\"}\n",
    "print(\"Name:{} Address:{} State:{}\".format(d[\"name\"], d[\"address\"], d[\"state\"]))"
   ]
  },
  {
   "cell_type": "code",
   "execution_count": 79,
   "id": "b418a912",
   "metadata": {},
   "outputs": [
    {
     "name": "stdout",
     "output_type": "stream",
     "text": [
      "10\n",
      "50\n",
      "200\n",
      "1200\n"
     ]
    }
   ],
   "source": [
    " FruitDict = {'Apple': 10, 'banana': 5,'orange':4,'Guava':6} \n",
    "y=1\n",
    "for i in FruitDict.values():\n",
    "    y=y*i\n",
    "    print(y)\n",
    "        "
   ]
  },
  {
   "cell_type": "code",
   "execution_count": 71,
   "id": "e0a93e4d",
   "metadata": {},
   "outputs": [],
   "source": [
    "x\n",
    "x={'sarthak': \"21\",\"rahool\": \"20\"}\n",
    "if"
   ]
  },
  {
   "cell_type": "code",
   "execution_count": 83,
   "id": "7ad186af",
   "metadata": {},
   "outputs": [
    {
     "name": "stdout",
     "output_type": "stream",
     "text": [
      "key: name\n",
      "value: srthka\n",
      "key: name\n",
      "value: rahool\n",
      "key: name\n",
      "value: asrtsy\n",
      "{'name': 'asrtsy'}\n",
      "enter keyname\n",
      "true\n"
     ]
    }
   ],
   "source": [
    "d={}\n",
    "for i in range(0,3):\n",
    "    x=input(\"key: \")\n",
    "    y=input(\"value: \")\n",
    "    d[x]=y\n",
    "print(d)\n",
    "t=input(\"enter key\")\n",
    "for i in d:\n",
    "    if i==t:\n",
    "        print('true')\n",
    "    "
   ]
  },
  {
   "cell_type": "code",
   "execution_count": 88,
   "id": "47a823f4",
   "metadata": {},
   "outputs": [
    {
     "name": "stdout",
     "output_type": "stream",
     "text": [
      "['100', '20', '300']\n",
      "['100', '20', '300']\n"
     ]
    }
   ],
   "source": []
  },
  {
   "cell_type": "code",
   "execution_count": 89,
   "id": "89991761",
   "metadata": {},
   "outputs": [
    {
     "name": "stdout",
     "output_type": "stream",
     "text": [
      "[('Sst', 82), ('Eng', 88), ('Sci', 90), ('Maths', 97)]\n"
     ]
    }
   ],
   "source": [
    "y=[('Eng', 88), ('Sci', 90), ('Maths', 97), ('Sst', 82)]\n",
    "y.sort(key=lambda x:x[1])\n",
    "print(y)"
   ]
  },
  {
   "cell_type": "code",
   "execution_count": 94,
   "id": "45e385e9",
   "metadata": {},
   "outputs": [
    {
     "name": "stdout",
     "output_type": "stream",
     "text": [
      "sorry\n"
     ]
    }
   ],
   "source": [
    "def fun(a,b):\n",
    "    if(a==1):\n",
    "        return(\"if\")\n",
    "    elif(b==1):\n",
    "        return('elif')\n",
    "    else:\n",
    "        return('sorry')\n",
    "x=fun(2,3)\n",
    "print(x)"
   ]
  },
  {
   "cell_type": "code",
   "execution_count": 98,
   "id": "dde77178",
   "metadata": {},
   "outputs": [
    {
     "name": "stdout",
     "output_type": "stream",
     "text": [
      "sarthak\n",
      "21\n",
      "cse\n",
      "rahool\n",
      "20\n",
      "electrical\n"
     ]
    }
   ],
   "source": [
    "def sar(name=\"sarthak\",age=21,branch=\"cse\"):\n",
    "    print(name)\n",
    "    print(age)\n",
    "    print(branch)\n",
    "sar()\n",
    "sar('rahool',20,'electrical')"
   ]
  },
  {
   "cell_type": "code",
   "execution_count": 128,
   "id": "57836fb3",
   "metadata": {},
   "outputs": [
    {
     "name": "stdout",
     "output_type": "stream",
     "text": [
      "66.0\n"
     ]
    }
   ],
   "source": [
    "#Take a Dictionary as given in input.Find the average of phy subject from the dict using function \n",
    "#Input:- dict={1:{'name':'Ram','Mark':{'phy':56,'chem':78}},2:{'name':'Hari','Mark':{'phy':76,'chem':88}}} \n",
    "def fun(b):\n",
    "    a=0\n",
    "    for i in b.values():\n",
    "        a=a+i[\"Mark\"][\"phy\"]\n",
    "    print(a/2)\n",
    "x={1:{'name':'Ram','Mark':{'phy':56,'chem':78}},2:{'name':'Hari','Mark':{'phy':76,'chem':88}}}\n",
    "fun(x)       \n",
    "    \n",
    "    \n"
   ]
  },
  {
   "cell_type": "code",
   "execution_count": null,
   "id": "92d6e379",
   "metadata": {},
   "outputs": [],
   "source": [
    "\n",
    "    "
   ]
  },
  {
   "cell_type": "code",
   "execution_count": null,
   "id": "662adce2",
   "metadata": {},
   "outputs": [],
   "source": []
  },
  {
   "cell_type": "code",
   "execution_count": null,
   "id": "65d82bb4",
   "metadata": {},
   "outputs": [],
   "source": [
    "\n"
   ]
  },
  {
   "cell_type": "code",
   "execution_count": null,
   "id": "c5249f18",
   "metadata": {},
   "outputs": [],
   "source": []
  }
 ],
 "metadata": {
  "kernelspec": {
   "display_name": "Python 3",
   "language": "python",
   "name": "python3"
  },
  "language_info": {
   "codemirror_mode": {
    "name": "ipython",
    "version": 3
   },
   "file_extension": ".py",
   "mimetype": "text/x-python",
   "name": "python",
   "nbconvert_exporter": "python",
   "pygments_lexer": "ipython3",
   "version": "3.8.8"
  }
 },
 "nbformat": 4,
 "nbformat_minor": 5
}
